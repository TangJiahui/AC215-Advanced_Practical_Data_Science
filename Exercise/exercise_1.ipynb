{
  "nbformat": 4,
  "nbformat_minor": 0,
  "metadata": {
    "colab": {
      "name": "exercise_1.ipynb",
      "provenance": [],
      "collapsed_sections": []
    },
    "kernelspec": {
      "display_name": "Python 3",
      "language": "python",
      "name": "python3"
    },
    "language_info": {
      "codemirror_mode": {
        "name": "ipython",
        "version": 3
      },
      "file_extension": ".py",
      "mimetype": "text/x-python",
      "name": "python",
      "nbconvert_exporter": "python",
      "pygments_lexer": "ipython3",
      "version": "3.8.8"
    },
    "accelerator": "GPU"
  },
  "cells": [
    {
      "cell_type": "markdown",
      "metadata": {
        "id": "MfTh4bUzAmSX"
      },
      "source": [
        "<h1 style=\"padding-top: 25px;padding-bottom: 25px;text-align: left; padding-left: 10px; background-color: #DDDDDD; \n",
        "    color: black;\"> <img style=\"float: left; padding-right: 10px;\" src=\"https://raw.githubusercontent.com/Harvard-IACS/2018-CS109A/master/content/styles/iacs.png\" height=\"50px\"> <a href='https://harvard-iacs.github.io/2021-AC215/' target='_blank'><strong><font color=\"#A41034\">AC215: Advanced Practical Data Science, MLOps</font></strong></a></h1>\n",
        "\n",
        "# **<font color=\"#A41034\">Exercise 1 - Dask</font>**\n",
        "\n",
        "**Harvard University**<br/>\n",
        "**Fall 2021**<br/>\n",
        "**Instructor:**\n",
        "Pavlos Protopapas<br/>\n",
        "\n",
        "**Students:**\n",
        "Jiahui Tang, Max Li<br/>\n",
        "\n",
        "<hr style=\"height:2pt\">"
      ]
    },
    {
      "cell_type": "markdown",
      "metadata": {
        "id": "FgY9xWhgGdt8"
      },
      "source": [
        "## **<font color=\"#A41034\">Setup Notebook</font>**"
      ]
    },
    {
      "cell_type": "markdown",
      "metadata": {
        "id": "c-HGo-xOGr2t"
      },
      "source": [
        "**Copy & setup Colab**"
      ]
    },
    {
      "cell_type": "markdown",
      "metadata": {
        "id": "4qfXH3wYGtSa"
      },
      "source": [
        "1) Select \"File\" menu and pick \"Save a copy in Drive\""
      ]
    },
    {
      "cell_type": "markdown",
      "metadata": {
        "id": "TljsNDvO8mex"
      },
      "source": [
        "**Installs**"
      ]
    },
    {
      "cell_type": "code",
      "metadata": {
        "id": "OpB5zrQm8m8y",
        "colab": {
          "base_uri": "https://localhost:8080/"
        },
        "outputId": "097cb21d-c8d1-4802-e320-7801f8d09683"
      },
      "source": [
        "!pip install dask dask[dataframe] dask-image"
      ],
      "execution_count": 1,
      "outputs": [
        {
          "output_type": "stream",
          "name": "stdout",
          "text": [
            "Requirement already satisfied: dask in /usr/local/lib/python3.7/dist-packages (2.12.0)\n",
            "Requirement already satisfied: dask-image in /usr/local/lib/python3.7/dist-packages (0.6.0)\n",
            "Requirement already satisfied: scipy>=0.19.1 in /usr/local/lib/python3.7/dist-packages (from dask-image) (1.4.1)\n",
            "Requirement already satisfied: pims>=0.4.1 in /usr/local/lib/python3.7/dist-packages (from dask-image) (0.5)\n",
            "Requirement already satisfied: numpy>=1.11.3 in /usr/local/lib/python3.7/dist-packages (from dask-image) (1.19.5)\n",
            "Requirement already satisfied: toolz>=0.7.3 in /usr/local/lib/python3.7/dist-packages (from dask) (0.11.1)\n",
            "Requirement already satisfied: slicerator>=0.9.8 in /usr/local/lib/python3.7/dist-packages (from pims>=0.4.1->dask-image) (1.0.0)\n",
            "Requirement already satisfied: six>=1.8 in /usr/local/lib/python3.7/dist-packages (from pims>=0.4.1->dask-image) (1.15.0)\n",
            "Requirement already satisfied: fsspec>=0.6.0 in /usr/local/lib/python3.7/dist-packages (from dask) (2021.8.1)\n",
            "Requirement already satisfied: pandas>=0.23.0 in /usr/local/lib/python3.7/dist-packages (from dask) (1.1.5)\n",
            "Requirement already satisfied: partd>=0.3.10 in /usr/local/lib/python3.7/dist-packages (from dask) (1.2.0)\n",
            "Requirement already satisfied: python-dateutil>=2.7.3 in /usr/local/lib/python3.7/dist-packages (from pandas>=0.23.0->dask) (2.8.2)\n",
            "Requirement already satisfied: pytz>=2017.2 in /usr/local/lib/python3.7/dist-packages (from pandas>=0.23.0->dask) (2018.9)\n",
            "Requirement already satisfied: locket in /usr/local/lib/python3.7/dist-packages (from partd>=0.3.10->dask) (0.2.1)\n"
          ]
        }
      ]
    },
    {
      "cell_type": "markdown",
      "metadata": {
        "id": "xsHQIdyQHAkV"
      },
      "source": [
        "**Imports**"
      ]
    },
    {
      "cell_type": "code",
      "metadata": {
        "id": "dB7OG0AQAlha"
      },
      "source": [
        "import os\n",
        "import requests\n",
        "import zipfile\n",
        "import tarfile\n",
        "import shutil\n",
        "import math\n",
        "import json\n",
        "import time\n",
        "import sys\n",
        "import numpy as np\n",
        "import pandas as pd\n",
        "\n",
        "# Dask\n",
        "import dask\n",
        "import dask.dataframe as dd\n",
        "import dask.array as da\n",
        "from dask.diagnostics import ProgressBar"
      ],
      "execution_count": 2,
      "outputs": []
    },
    {
      "cell_type": "markdown",
      "metadata": {
        "id": "6i3sZbohM2K_"
      },
      "source": [
        "**Utils**"
      ]
    },
    {
      "cell_type": "markdown",
      "metadata": {
        "id": "AIn5czLvM2sS"
      },
      "source": [
        "Here are some util functions that we will be using for this exercise"
      ]
    },
    {
      "cell_type": "code",
      "metadata": {
        "id": "wm_puO9WSoq3"
      },
      "source": [
        "def download_file(packet_url, base_path=\"\", extract=False, headers=None):\n",
        "  if base_path != \"\":\n",
        "    if not os.path.exists(base_path):\n",
        "      os.mkdir(base_path)\n",
        "  packet_file = os.path.basename(packet_url)\n",
        "  with requests.get(packet_url, stream=True, headers=headers) as r:\n",
        "      r.raise_for_status()\n",
        "      with open(os.path.join(base_path,packet_file), 'wb') as f:\n",
        "          for chunk in r.iter_content(chunk_size=8192):\n",
        "              f.write(chunk)\n",
        "  \n",
        "  if extract:\n",
        "    if packet_file.endswith(\".zip\"):\n",
        "      with zipfile.ZipFile(os.path.join(base_path,packet_file)) as zfile:\n",
        "        zfile.extractall(base_path)\n",
        "    else:\n",
        "      packet_name = packet_file.split('.')[0]\n",
        "      with tarfile.open(os.path.join(base_path,packet_file)) as tfile:\n",
        "        tfile.extractall(base_path)"
      ],
      "execution_count": 3,
      "outputs": []
    },
    {
      "cell_type": "markdown",
      "metadata": {
        "id": "0S7SfN033avL"
      },
      "source": [
        "## **<font color=\"#A41034\">Dataset</font>**"
      ]
    },
    {
      "cell_type": "markdown",
      "metadata": {
        "id": "4XG4wAf13NTD"
      },
      "source": [
        "### **Load Data**"
      ]
    },
    {
      "cell_type": "code",
      "metadata": {
        "id": "yYcm05rgU7ts",
        "colab": {
          "base_uri": "https://localhost:8080/"
        },
        "outputId": "8e73f05e-2882-4cac-f612-77540f3734f0"
      },
      "source": [
        "start_time = time.time()\n",
        "download_file(\"https://github.com/dlops-io/datasets/releases/download/v1.0/Parking_Violations_Issued_-_Fiscal_Year_2017.csv.zip\", base_path=\"datasets\", extract=True)\n",
        "execution_time = (time.time() - start_time)/60.0\n",
        "print(\"Download execution time (mins)\",execution_time)"
      ],
      "execution_count": 4,
      "outputs": [
        {
          "output_type": "stream",
          "name": "stdout",
          "text": [
            "Download execution time (mins) 0.8145878473917644\n"
          ]
        }
      ]
    },
    {
      "cell_type": "code",
      "metadata": {
        "id": "zYyuvydtXTBC"
      },
      "source": [
        "parking_violation_csv = os.path.join(\"datasets\",\"Parking_Violations_Issued_-_Fiscal_Year_2017.csv\")"
      ],
      "execution_count": 5,
      "outputs": []
    },
    {
      "cell_type": "markdown",
      "metadata": {
        "id": "EUOQpHBwSCtO"
      },
      "source": [
        "## Q1: Compute Pi with a Slowly Converging Series\n",
        "\n",
        "Leibniz published one of the oldest known series in 1676.  While this is easy to understand and derive, it converges very slowly.\n",
        "https://en.wikipedia.org/wiki/Leibniz_formula_for_%CF%80 <br/>\n",
        "$$\\frac{\\pi}{4} = 1 - \\frac{1}{3} + \\frac{1}{5} - \\frac{1}{7} ...$$\n",
        "\n",
        "While this is a genuinely cruel way to compute the value of $\\pi$, it’s a fun opportunity to use brute force on a problem instead of thinking.\n",
        "Compute using at least four billion terms in this sequence. Compare your time taken with numpy and dask.  On my mac, with numpy this took 44 seconds and with dask it took 5.7 seconds. \n",
        "\n",
        "*Hint:* Use dask array"
      ]
    },
    {
      "cell_type": "markdown",
      "metadata": {
        "id": "-u_b1FUFVLua"
      },
      "source": [
        "**Checking  1e9 * 4  terms with numpy**\n",
        "\n",
        "If 1e9 * 4 fails, try 1e9 * 2 or increase memory "
      ]
    },
    {
      "cell_type": "code",
      "metadata": {
        "id": "N2CAJccZVIDe"
      },
      "source": [
        "# Your code here\n",
        "start_time = time.time()\n",
        "k = int(1e9*2)\n",
        "positive_sum = np.sum(1/np.arange(1, k ,4))\n",
        "negative_sum = np.sum(-1/np.arange(3, k, 4))\n",
        "pi_computed = (positive_sum + negative_sum) * 4\n",
        "execution_time = time.time() - start_time"
      ],
      "execution_count": 6,
      "outputs": []
    },
    {
      "cell_type": "code",
      "metadata": {
        "id": "Ic3QeXZ6VIGY",
        "colab": {
          "base_uri": "https://localhost:8080/"
        },
        "outputId": "a4b3a6e5-dd8b-451b-e232-65ffad47215a"
      },
      "source": [
        "# Error \n",
        "error = np.abs(pi_computed-np.pi)\n",
        "\n",
        "# Report Results\n",
        "print(f'Pi real value = {np.pi:14.12f}')\n",
        "print(f'Pi computed value = {pi_computed:14.12f}')\n",
        "print(f'Error = {error:6.3e}')\n",
        "print(\"Numpy execution time (sec)\",execution_time)"
      ],
      "execution_count": 7,
      "outputs": [
        {
          "output_type": "stream",
          "name": "stdout",
          "text": [
            "Pi real value = 3.141592653590\n",
            "Pi computed value = 3.141592652590\n",
            "Error = 9.998e-10\n",
            "Numpy execution time (sec) 8.094965696334839\n"
          ]
        }
      ]
    },
    {
      "cell_type": "markdown",
      "metadata": {
        "id": "xWEU_dHFVSsO"
      },
      "source": [
        "**Checking  1e9 * 4  terms with Dask**"
      ]
    },
    {
      "cell_type": "code",
      "metadata": {
        "id": "VcjKNmoHVTGJ"
      },
      "source": [
        "# Your code here\n",
        "start_time = time.time()\n",
        "k = int(1e9*2)\n",
        "positive_sum_da = da.sum(1/da.arange(1, k, 4)).compute()\n",
        "negative_sum_da = da.sum(-1/da.arange(3, k, 4)).compute()\n",
        "step3_pi = (positive_sum_da + negative_sum_da) * 4\n",
        "execution_time = time.time() - start_time"
      ],
      "execution_count": 8,
      "outputs": []
    },
    {
      "cell_type": "code",
      "metadata": {
        "id": "5BobZYkLVTIq",
        "colab": {
          "base_uri": "https://localhost:8080/"
        },
        "outputId": "abba1253-3e15-4ca1-b99a-ecef05052945"
      },
      "source": [
        "error = np.abs(step3_pi - np.pi)\n",
        "\n",
        "# Report Results\n",
        "print(f'Pi real value = {np.pi:14.12f}')\n",
        "print(f'Pi computed value = {step3_pi:14.12f}')\n",
        "print(f'Error = {error:6.3e}')\n",
        "print(\"Dask Array execution time (sec)\",execution_time)"
      ],
      "execution_count": 9,
      "outputs": [
        {
          "output_type": "stream",
          "name": "stdout",
          "text": [
            "Pi real value = 3.141592653590\n",
            "Pi computed value = 3.141592652590\n",
            "Error = 1.000e-09\n",
            "Dask Array execution time (sec) 4.978763103485107\n"
          ]
        }
      ]
    },
    {
      "cell_type": "markdown",
      "metadata": {
        "id": "2elAV0rjVaB2"
      },
      "source": [
        "## Filter Parking Tickets Dataset\n",
        "\n",
        "According to the parking tickets data set documentation, the column called ‘Plate Type’ consists mainly of two different types, ‘PAS’ and ‘COM’; presumably for passenger and commercial vehicles, respectively. Maybe the rest are the famous parking tickets from the UN diplomats, who take advantage of diplomatic immunity not to pay their fines.\n",
        "\n",
        "Create a filtered Dask DataFrame with only the commercial plates.\n",
        "Persist it, so it is available in memory for future computations. Count the number of summonses in 2017 (i.e., Issue Year in 2016, 2017) issued to commercial plate types. Compute them as a percentage of the total data set. \n",
        "\n",
        "*Hint*: This is easy; it is only about 5-7 lines of code."
      ]
    },
    {
      "cell_type": "code",
      "metadata": {
        "id": "_5gQx0DRVagl",
        "colab": {
          "base_uri": "https://localhost:8080/",
          "height": 445
        },
        "outputId": "36befc9f-ae90-4d2c-ab6c-22506d5aa9ce"
      },
      "source": [
        "dict_1 = {'Summons Number': 'int64', 'Plate ID': 'object', 'Registration State': 'object', 'Plate Type': 'object',\n",
        " 'Issue Date': 'object', 'Violation Code': 'int64', 'Vehicle Body Type': 'object', 'Vehicle Make': 'object',\n",
        " 'Issuing Agency': 'object', 'Street Code1': 'int64', 'Street Code2': 'int64', 'Street Code3': 'int64',\n",
        " 'Vehicle Expiration Date': 'int64', 'Violation Location': 'float64', 'Violation Precinct': 'int64', 'Issuer Precinct': 'int64',\n",
        " 'Issuer Code': 'int64', 'Issuer Command': 'object', 'Issuer Squad': 'object', 'Violation Time': 'object',\n",
        " 'Time First Observed': 'object', 'Violation County': 'object', 'Violation In Front Of Or Opposite': 'object', 'House Number': 'object',\n",
        " 'Street Name': 'object', 'Intersecting Street': 'object', 'Date First Observed': 'int64', 'Law Section': 'int64',\n",
        " 'Sub Division': 'object', 'Violation Legal Code': 'object', 'Days Parking In Effect    ': 'object', 'From Hours In Effect': 'object',\n",
        " 'To Hours In Effect': 'object', 'Vehicle Color': 'object', 'Unregistered Vehicle?': 'float64', 'Vehicle Year': 'int64',\n",
        " 'Meter Number': 'object', 'Feet From Curb': 'int64', 'Violation Post Code': 'object', 'Violation Description': 'object',\n",
        " 'No Standing or Stopping Violation': 'float64', 'Hydrant Violation': 'float64', 'Double Parking Violation': 'float64'}\n",
        "\n",
        "# This is to avoid the  DtypeWarning \n",
        "df = dd.read_csv(parking_violation_csv,  dtype=dict_1)\n",
        "df.head()"
      ],
      "execution_count": 10,
      "outputs": [
        {
          "output_type": "execute_result",
          "data": {
            "text/html": [
              "<div>\n",
              "<style scoped>\n",
              "    .dataframe tbody tr th:only-of-type {\n",
              "        vertical-align: middle;\n",
              "    }\n",
              "\n",
              "    .dataframe tbody tr th {\n",
              "        vertical-align: top;\n",
              "    }\n",
              "\n",
              "    .dataframe thead th {\n",
              "        text-align: right;\n",
              "    }\n",
              "</style>\n",
              "<table border=\"1\" class=\"dataframe\">\n",
              "  <thead>\n",
              "    <tr style=\"text-align: right;\">\n",
              "      <th></th>\n",
              "      <th>Summons Number</th>\n",
              "      <th>Plate ID</th>\n",
              "      <th>Registration State</th>\n",
              "      <th>Plate Type</th>\n",
              "      <th>Issue Date</th>\n",
              "      <th>Violation Code</th>\n",
              "      <th>Vehicle Body Type</th>\n",
              "      <th>Vehicle Make</th>\n",
              "      <th>Issuing Agency</th>\n",
              "      <th>Street Code1</th>\n",
              "      <th>Street Code2</th>\n",
              "      <th>Street Code3</th>\n",
              "      <th>Vehicle Expiration Date</th>\n",
              "      <th>Violation Location</th>\n",
              "      <th>Violation Precinct</th>\n",
              "      <th>Issuer Precinct</th>\n",
              "      <th>Issuer Code</th>\n",
              "      <th>Issuer Command</th>\n",
              "      <th>Issuer Squad</th>\n",
              "      <th>Violation Time</th>\n",
              "      <th>Time First Observed</th>\n",
              "      <th>Violation County</th>\n",
              "      <th>Violation In Front Of Or Opposite</th>\n",
              "      <th>House Number</th>\n",
              "      <th>Street Name</th>\n",
              "      <th>Intersecting Street</th>\n",
              "      <th>Date First Observed</th>\n",
              "      <th>Law Section</th>\n",
              "      <th>Sub Division</th>\n",
              "      <th>Violation Legal Code</th>\n",
              "      <th>Days Parking In Effect</th>\n",
              "      <th>From Hours In Effect</th>\n",
              "      <th>To Hours In Effect</th>\n",
              "      <th>Vehicle Color</th>\n",
              "      <th>Unregistered Vehicle?</th>\n",
              "      <th>Vehicle Year</th>\n",
              "      <th>Meter Number</th>\n",
              "      <th>Feet From Curb</th>\n",
              "      <th>Violation Post Code</th>\n",
              "      <th>Violation Description</th>\n",
              "      <th>No Standing or Stopping Violation</th>\n",
              "      <th>Hydrant Violation</th>\n",
              "      <th>Double Parking Violation</th>\n",
              "    </tr>\n",
              "  </thead>\n",
              "  <tbody>\n",
              "    <tr>\n",
              "      <th>0</th>\n",
              "      <td>5092469481</td>\n",
              "      <td>GZH7067</td>\n",
              "      <td>NY</td>\n",
              "      <td>PAS</td>\n",
              "      <td>07/10/2016</td>\n",
              "      <td>7</td>\n",
              "      <td>SUBN</td>\n",
              "      <td>TOYOT</td>\n",
              "      <td>V</td>\n",
              "      <td>0</td>\n",
              "      <td>0</td>\n",
              "      <td>0</td>\n",
              "      <td>0</td>\n",
              "      <td>NaN</td>\n",
              "      <td>0</td>\n",
              "      <td>0</td>\n",
              "      <td>0</td>\n",
              "      <td>NaN</td>\n",
              "      <td>NaN</td>\n",
              "      <td>0143A</td>\n",
              "      <td>NaN</td>\n",
              "      <td>BX</td>\n",
              "      <td>NaN</td>\n",
              "      <td>NaN</td>\n",
              "      <td>ALLERTON AVE (W/B) @</td>\n",
              "      <td>BARNES AVE</td>\n",
              "      <td>0</td>\n",
              "      <td>1111</td>\n",
              "      <td>D</td>\n",
              "      <td>T</td>\n",
              "      <td>NaN</td>\n",
              "      <td>NaN</td>\n",
              "      <td>NaN</td>\n",
              "      <td>GY</td>\n",
              "      <td>NaN</td>\n",
              "      <td>2001</td>\n",
              "      <td>NaN</td>\n",
              "      <td>0</td>\n",
              "      <td>NaN</td>\n",
              "      <td>FAILURE TO STOP AT RED LIGHT</td>\n",
              "      <td>NaN</td>\n",
              "      <td>NaN</td>\n",
              "      <td>NaN</td>\n",
              "    </tr>\n",
              "    <tr>\n",
              "      <th>1</th>\n",
              "      <td>5092451658</td>\n",
              "      <td>GZH7067</td>\n",
              "      <td>NY</td>\n",
              "      <td>PAS</td>\n",
              "      <td>07/08/2016</td>\n",
              "      <td>7</td>\n",
              "      <td>SUBN</td>\n",
              "      <td>TOYOT</td>\n",
              "      <td>V</td>\n",
              "      <td>0</td>\n",
              "      <td>0</td>\n",
              "      <td>0</td>\n",
              "      <td>0</td>\n",
              "      <td>NaN</td>\n",
              "      <td>0</td>\n",
              "      <td>0</td>\n",
              "      <td>0</td>\n",
              "      <td>NaN</td>\n",
              "      <td>NaN</td>\n",
              "      <td>0400P</td>\n",
              "      <td>NaN</td>\n",
              "      <td>BX</td>\n",
              "      <td>NaN</td>\n",
              "      <td>NaN</td>\n",
              "      <td>ALLERTON AVE (W/B) @</td>\n",
              "      <td>BARNES AVE</td>\n",
              "      <td>0</td>\n",
              "      <td>1111</td>\n",
              "      <td>D</td>\n",
              "      <td>T</td>\n",
              "      <td>NaN</td>\n",
              "      <td>NaN</td>\n",
              "      <td>NaN</td>\n",
              "      <td>GY</td>\n",
              "      <td>NaN</td>\n",
              "      <td>2001</td>\n",
              "      <td>NaN</td>\n",
              "      <td>0</td>\n",
              "      <td>NaN</td>\n",
              "      <td>FAILURE TO STOP AT RED LIGHT</td>\n",
              "      <td>NaN</td>\n",
              "      <td>NaN</td>\n",
              "      <td>NaN</td>\n",
              "    </tr>\n",
              "    <tr>\n",
              "      <th>2</th>\n",
              "      <td>4006265037</td>\n",
              "      <td>FZX9232</td>\n",
              "      <td>NY</td>\n",
              "      <td>PAS</td>\n",
              "      <td>08/23/2016</td>\n",
              "      <td>5</td>\n",
              "      <td>SUBN</td>\n",
              "      <td>FORD</td>\n",
              "      <td>V</td>\n",
              "      <td>0</td>\n",
              "      <td>0</td>\n",
              "      <td>0</td>\n",
              "      <td>0</td>\n",
              "      <td>NaN</td>\n",
              "      <td>0</td>\n",
              "      <td>0</td>\n",
              "      <td>0</td>\n",
              "      <td>NaN</td>\n",
              "      <td>NaN</td>\n",
              "      <td>0233P</td>\n",
              "      <td>NaN</td>\n",
              "      <td>BX</td>\n",
              "      <td>NaN</td>\n",
              "      <td>NaN</td>\n",
              "      <td>SB WEBSTER AVE @ E 1</td>\n",
              "      <td>94TH ST</td>\n",
              "      <td>0</td>\n",
              "      <td>1111</td>\n",
              "      <td>C</td>\n",
              "      <td>T</td>\n",
              "      <td>NaN</td>\n",
              "      <td>NaN</td>\n",
              "      <td>NaN</td>\n",
              "      <td>BK</td>\n",
              "      <td>NaN</td>\n",
              "      <td>2004</td>\n",
              "      <td>NaN</td>\n",
              "      <td>0</td>\n",
              "      <td>NaN</td>\n",
              "      <td>BUS LANE VIOLATION</td>\n",
              "      <td>NaN</td>\n",
              "      <td>NaN</td>\n",
              "      <td>NaN</td>\n",
              "    </tr>\n",
              "    <tr>\n",
              "      <th>3</th>\n",
              "      <td>8478629828</td>\n",
              "      <td>66623ME</td>\n",
              "      <td>NY</td>\n",
              "      <td>COM</td>\n",
              "      <td>06/14/2017</td>\n",
              "      <td>47</td>\n",
              "      <td>REFG</td>\n",
              "      <td>MITSU</td>\n",
              "      <td>T</td>\n",
              "      <td>10610</td>\n",
              "      <td>34330</td>\n",
              "      <td>34350</td>\n",
              "      <td>20180630</td>\n",
              "      <td>14.0</td>\n",
              "      <td>14</td>\n",
              "      <td>14</td>\n",
              "      <td>359594</td>\n",
              "      <td>T102</td>\n",
              "      <td>J</td>\n",
              "      <td>1120A</td>\n",
              "      <td>NaN</td>\n",
              "      <td>NY</td>\n",
              "      <td>O</td>\n",
              "      <td>330</td>\n",
              "      <td>7th Ave</td>\n",
              "      <td>NaN</td>\n",
              "      <td>0</td>\n",
              "      <td>408</td>\n",
              "      <td>l2</td>\n",
              "      <td>NaN</td>\n",
              "      <td>Y</td>\n",
              "      <td>0700A</td>\n",
              "      <td>0700P</td>\n",
              "      <td>WH</td>\n",
              "      <td>NaN</td>\n",
              "      <td>2007</td>\n",
              "      <td>NaN</td>\n",
              "      <td>0</td>\n",
              "      <td>04</td>\n",
              "      <td>47-Double PKG-Midtown</td>\n",
              "      <td>NaN</td>\n",
              "      <td>NaN</td>\n",
              "      <td>NaN</td>\n",
              "    </tr>\n",
              "    <tr>\n",
              "      <th>4</th>\n",
              "      <td>7868300310</td>\n",
              "      <td>37033JV</td>\n",
              "      <td>NY</td>\n",
              "      <td>COM</td>\n",
              "      <td>11/21/2016</td>\n",
              "      <td>69</td>\n",
              "      <td>DELV</td>\n",
              "      <td>INTER</td>\n",
              "      <td>T</td>\n",
              "      <td>10510</td>\n",
              "      <td>34310</td>\n",
              "      <td>34330</td>\n",
              "      <td>20170228</td>\n",
              "      <td>13.0</td>\n",
              "      <td>13</td>\n",
              "      <td>13</td>\n",
              "      <td>364832</td>\n",
              "      <td>T102</td>\n",
              "      <td>M</td>\n",
              "      <td>0555P</td>\n",
              "      <td>NaN</td>\n",
              "      <td>NY</td>\n",
              "      <td>F</td>\n",
              "      <td>799</td>\n",
              "      <td>6th Ave</td>\n",
              "      <td>NaN</td>\n",
              "      <td>0</td>\n",
              "      <td>408</td>\n",
              "      <td>h1</td>\n",
              "      <td>NaN</td>\n",
              "      <td>Y</td>\n",
              "      <td>0700A</td>\n",
              "      <td>0700P</td>\n",
              "      <td>WHITE</td>\n",
              "      <td>NaN</td>\n",
              "      <td>2007</td>\n",
              "      <td>NaN</td>\n",
              "      <td>0</td>\n",
              "      <td>31 6</td>\n",
              "      <td>69-Failure to Disp Muni Recpt</td>\n",
              "      <td>NaN</td>\n",
              "      <td>NaN</td>\n",
              "      <td>NaN</td>\n",
              "    </tr>\n",
              "  </tbody>\n",
              "</table>\n",
              "</div>"
            ],
            "text/plain": [
              "   Summons Number Plate ID  ... Hydrant Violation Double Parking Violation\n",
              "0      5092469481  GZH7067  ...               NaN                      NaN\n",
              "1      5092451658  GZH7067  ...               NaN                      NaN\n",
              "2      4006265037  FZX9232  ...               NaN                      NaN\n",
              "3      8478629828  66623ME  ...               NaN                      NaN\n",
              "4      7868300310  37033JV  ...               NaN                      NaN\n",
              "\n",
              "[5 rows x 43 columns]"
            ]
          },
          "metadata": {},
          "execution_count": 10
        }
      ]
    },
    {
      "cell_type": "code",
      "metadata": {
        "colab": {
          "base_uri": "https://localhost:8080/"
        },
        "id": "aDVIVfOdoVlr",
        "outputId": "ff7749d0-ee86-4416-d737-a2a7cde2beb5"
      },
      "source": [
        "# info Dask Dataframe\n",
        "print('<index where df has been split>', df.divisions)\n",
        "print('<# partitions>', df.npartitions)"
      ],
      "execution_count": 11,
      "outputs": [
        {
          "output_type": "stream",
          "name": "stdout",
          "text": [
            "<index where df has been split> (None, None, None, None, None, None, None, None, None, None, None, None, None, None, None, None, None, None, None, None, None, None, None, None, None, None, None, None, None, None, None, None, None, None)\n",
            "<# partitions> 33\n"
          ]
        }
      ]
    },
    {
      "cell_type": "code",
      "metadata": {
        "id": "7310-humpDZx"
      },
      "source": [
        "# filter entries in dask dataframe with COM\n",
        "# and persist it\n",
        "action_filtered = df[df['Plate Type'] == 'COM'].persist()"
      ],
      "execution_count": 12,
      "outputs": []
    },
    {
      "cell_type": "code",
      "metadata": {
        "id": "L6O_HwM_xlh7"
      },
      "source": [
        "# df with number of summonses in 2017 (i.e., Issue Year in 2016, 2017)\n",
        "summonses_value_df = action_filtered[action_filtered['Issue Date'].str.contains('2016|2017')]\n",
        "\n",
        "#after reorganizing dataframe in one partition, check number of summonses\n",
        "action_filtered_reduced = summonses_value_df.repartition(npartitions=1)\n",
        "commercial_2017_count = action_filtered_reduced.map_partitions(len).compute()"
      ],
      "execution_count": 13,
      "outputs": []
    },
    {
      "cell_type": "code",
      "metadata": {
        "id": "aXw5fqGAsV5D"
      },
      "source": [
        "# Compute them as a percentage of the total data set\n",
        "df_size =  df.index.size \n",
        "commercial_2017_percent = ((commercial_2017_count/df_size)*100)"
      ],
      "execution_count": 14,
      "outputs": []
    },
    {
      "cell_type": "code",
      "metadata": {
        "id": "FXbWvK5az500"
      },
      "source": [
        "num_commercial_2017 = int(commercial_2017_count)\n",
        "pct_commercial = int(commercial_2017_percent)"
      ],
      "execution_count": 15,
      "outputs": []
    },
    {
      "cell_type": "code",
      "metadata": {
        "id": "Mdvcd_pkVpWe",
        "colab": {
          "base_uri": "https://localhost:8080/"
        },
        "outputId": "96cac285-6e8c-4c74-b200-340d46b0138e"
      },
      "source": [
        "# Percentage relative to all the parking tickets in 2017\n",
        "print(f'Number of NYC summonses with commercial plates in 2017 was {num_commercial_2017}')\n",
        "print(f'Percentage {pct_commercial:5.2f}%')"
      ],
      "execution_count": 16,
      "outputs": [
        {
          "output_type": "stream",
          "name": "stdout",
          "text": [
            "Number of NYC summonses with commercial plates in 2017 was 1838970\n",
            "Percentage 17.00%\n"
          ]
        }
      ]
    }
  ]
}